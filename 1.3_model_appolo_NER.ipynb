{
 "cells": [
  {
   "cell_type": "code",
   "execution_count": 1,
   "id": "2ea25e80-b748-400f-a68d-d934916aa584",
   "metadata": {
    "tags": []
   },
   "outputs": [],
   "source": [
    "from transformers import AutoTokenizer, pipeline, AutoModelForTokenClassification\n",
    "from transformers import BertTokenizerFast, BertForTokenClassification\n",
    "from tqdm import tqdm\n",
    "import pandas as pd"
   ]
  },
  {
   "cell_type": "code",
   "execution_count": 2,
   "id": "7d8cf7ca-21c1-4238-8818-d242bd416671",
   "metadata": {
    "tags": []
   },
   "outputs": [],
   "source": [
    "tokenizer   = AutoTokenizer.from_pretrained(\"Clinical-AI-Apollo/Medical-NER\")\n",
    "model       = AutoModelForTokenClassification.from_pretrained(\"Clinical-AI-Apollo/Medical-NER\")\n",
    "nerpipeline = pipeline('ner', model=model, tokenizer=tokenizer)"
   ]
  },
  {
   "cell_type": "markdown",
   "id": "b703e0b6",
   "metadata": {},
   "source": [
    "# Get the entities in the Appolo NER model"
   ]
  },
  {
   "cell_type": "code",
   "execution_count": 3,
   "id": "ffd0d283",
   "metadata": {},
   "outputs": [],
   "source": [
    "pipe_simple_ner  = pipeline(\"ner\", model=\"Clinical-AI-Apollo/Medical-NER\", aggregation_strategy='simple',tokenizer=tokenizer)\n"
   ]
  },
  {
   "cell_type": "code",
   "execution_count": 4,
   "id": "d149408a",
   "metadata": {},
   "outputs": [],
   "source": [
    "text =\"\"\"\n",
    "Alice is a 13 y.o. male being seen for evaluation of PAH deficiency\n",
    "She has got vitamin D deficency and anemia\n",
    "She is taking viatmin B1, B2 and iron tablets\n",
    "\"\"\""
   ]
  },
  {
   "cell_type": "code",
   "execution_count": 5,
   "id": "b2fa2c70-f19b-402b-9eb3-5722133cb2d4",
   "metadata": {},
   "outputs": [
    {
     "name": "stderr",
     "output_type": "stream",
     "text": [
      "Asking to truncate to max_length but no maximum length is provided and the model has no predefined maximum length. Default to no truncation.\n"
     ]
    },
    {
     "data": {
      "text/html": [
       "<div>\n",
       "<style scoped>\n",
       "    .dataframe tbody tr th:only-of-type {\n",
       "        vertical-align: middle;\n",
       "    }\n",
       "\n",
       "    .dataframe tbody tr th {\n",
       "        vertical-align: top;\n",
       "    }\n",
       "\n",
       "    .dataframe thead th {\n",
       "        text-align: right;\n",
       "    }\n",
       "</style>\n",
       "<table border=\"1\" class=\"dataframe\">\n",
       "  <thead>\n",
       "    <tr style=\"text-align: right;\">\n",
       "      <th></th>\n",
       "      <th>entity_group</th>\n",
       "      <th>score</th>\n",
       "      <th>word</th>\n",
       "      <th>start</th>\n",
       "      <th>end</th>\n",
       "    </tr>\n",
       "  </thead>\n",
       "  <tbody>\n",
       "    <tr>\n",
       "      <th>0</th>\n",
       "      <td>AGE</td>\n",
       "      <td>0.541046</td>\n",
       "      <td>13 y.o.</td>\n",
       "      <td>11</td>\n",
       "      <td>19</td>\n",
       "    </tr>\n",
       "    <tr>\n",
       "      <th>1</th>\n",
       "      <td>SEX</td>\n",
       "      <td>0.549964</td>\n",
       "      <td>male</td>\n",
       "      <td>19</td>\n",
       "      <td>24</td>\n",
       "    </tr>\n",
       "    <tr>\n",
       "      <th>2</th>\n",
       "      <td>CLINICAL_EVENT</td>\n",
       "      <td>0.598481</td>\n",
       "      <td>seen</td>\n",
       "      <td>30</td>\n",
       "      <td>35</td>\n",
       "    </tr>\n",
       "    <tr>\n",
       "      <th>3</th>\n",
       "      <td>DISEASE_DISORDER</td>\n",
       "      <td>0.802787</td>\n",
       "      <td>PAH deficiency</td>\n",
       "      <td>53</td>\n",
       "      <td>68</td>\n",
       "    </tr>\n",
       "    <tr>\n",
       "      <th>4</th>\n",
       "      <td>SIGN_SYMPTOM</td>\n",
       "      <td>0.798482</td>\n",
       "      <td>vitamin D deficency</td>\n",
       "      <td>80</td>\n",
       "      <td>100</td>\n",
       "    </tr>\n",
       "    <tr>\n",
       "      <th>5</th>\n",
       "      <td>SIGN_SYMPTOM</td>\n",
       "      <td>0.571304</td>\n",
       "      <td>anemia</td>\n",
       "      <td>104</td>\n",
       "      <td>111</td>\n",
       "    </tr>\n",
       "    <tr>\n",
       "      <th>6</th>\n",
       "      <td>MEDICATION</td>\n",
       "      <td>0.789797</td>\n",
       "      <td>viatmin B1, B2</td>\n",
       "      <td>125</td>\n",
       "      <td>140</td>\n",
       "    </tr>\n",
       "    <tr>\n",
       "      <th>7</th>\n",
       "      <td>MEDICATION</td>\n",
       "      <td>0.871156</td>\n",
       "      <td>iron tablets</td>\n",
       "      <td>144</td>\n",
       "      <td>157</td>\n",
       "    </tr>\n",
       "  </tbody>\n",
       "</table>\n",
       "</div>"
      ],
      "text/plain": [
       "       entity_group     score                 word  start  end\n",
       "0               AGE  0.541046              13 y.o.     11   19\n",
       "1               SEX  0.549964                 male     19   24\n",
       "2    CLINICAL_EVENT  0.598481                 seen     30   35\n",
       "3  DISEASE_DISORDER  0.802787       PAH deficiency     53   68\n",
       "4      SIGN_SYMPTOM  0.798482  vitamin D deficency     80  100\n",
       "5      SIGN_SYMPTOM  0.571304               anemia    104  111\n",
       "6        MEDICATION  0.789797       viatmin B1, B2    125  140\n",
       "7        MEDICATION  0.871156         iron tablets    144  157"
      ]
     },
     "execution_count": 5,
     "metadata": {},
     "output_type": "execute_result"
    }
   ],
   "source": [
    "NER_output =pipe_simple_ner(text)\n",
    "NER_output_df = pd.DataFrame(NER_output)\n",
    "NER_output_df"
   ]
  },
  {
   "cell_type": "code",
   "execution_count": null,
   "id": "10b7d859",
   "metadata": {},
   "outputs": [],
   "source": [
    "## Add the data biomedical bert model"
   ]
  },
  {
   "cell_type": "code",
   "execution_count": 6,
   "id": "fd29bdd3",
   "metadata": {},
   "outputs": [
    {
     "data": {
      "application/vnd.jupyter.widget-view+json": {
       "model_id": "d833ecd2ddaf4b99ba3b6bc0bd3fb354",
       "version_major": 2,
       "version_minor": 0
      },
      "text/plain": [
       "tokenizer_config.json:   0%|          | 0.00/373 [00:00<?, ?B/s]"
      ]
     },
     "metadata": {},
     "output_type": "display_data"
    },
    {
     "name": "stderr",
     "output_type": "stream",
     "text": [
      "c:\\Users\\ajames\\AppData\\Local\\anaconda3\\Lib\\site-packages\\huggingface_hub\\file_download.py:148: UserWarning: `huggingface_hub` cache-system uses symlinks by default to efficiently store duplicated files but your machine does not support them in C:\\Users\\ajames\\.cache\\huggingface\\hub\\models--d4data--biomedical-ner-all. Caching files will still work but in a degraded version that might require more space on your disk. This warning can be disabled by setting the `HF_HUB_DISABLE_SYMLINKS_WARNING` environment variable. For more details, see https://huggingface.co/docs/huggingface_hub/how-to-cache#limitations.\n",
      "To support symlinks on Windows, you either need to activate Developer Mode or to run Python as an administrator. In order to see activate developer mode, see this article: https://docs.microsoft.com/en-us/windows/apps/get-started/enable-your-device-for-development\n",
      "  warnings.warn(message)\n"
     ]
    },
    {
     "data": {
      "application/vnd.jupyter.widget-view+json": {
       "model_id": "1b1a1c360f5c466484907fa4643aabc8",
       "version_major": 2,
       "version_minor": 0
      },
      "text/plain": [
       "vocab.txt:   0%|          | 0.00/232k [00:00<?, ?B/s]"
      ]
     },
     "metadata": {},
     "output_type": "display_data"
    },
    {
     "data": {
      "application/vnd.jupyter.widget-view+json": {
       "model_id": "613865fdd68548728a8747105d83239b",
       "version_major": 2,
       "version_minor": 0
      },
      "text/plain": [
       "tokenizer.json:   0%|          | 0.00/711k [00:00<?, ?B/s]"
      ]
     },
     "metadata": {},
     "output_type": "display_data"
    },
    {
     "data": {
      "application/vnd.jupyter.widget-view+json": {
       "model_id": "42b00602cd034f1c95d3e73c2142eff2",
       "version_major": 2,
       "version_minor": 0
      },
      "text/plain": [
       "special_tokens_map.json:   0%|          | 0.00/125 [00:00<?, ?B/s]"
      ]
     },
     "metadata": {},
     "output_type": "display_data"
    },
    {
     "data": {
      "application/vnd.jupyter.widget-view+json": {
       "model_id": "6b0cf235914d48fe9ba57a525546b350",
       "version_major": 2,
       "version_minor": 0
      },
      "text/plain": [
       "config.json:   0%|          | 0.00/5.00k [00:00<?, ?B/s]"
      ]
     },
     "metadata": {},
     "output_type": "display_data"
    },
    {
     "data": {
      "application/vnd.jupyter.widget-view+json": {
       "model_id": "c30d9cedfb72422cad9107ce2ef4a6b2",
       "version_major": 2,
       "version_minor": 0
      },
      "text/plain": [
       "model.safetensors:   0%|          | 0.00/266M [00:00<?, ?B/s]"
      ]
     },
     "metadata": {},
     "output_type": "display_data"
    },
    {
     "data": {
      "text/html": [
       "<div>\n",
       "<style scoped>\n",
       "    .dataframe tbody tr th:only-of-type {\n",
       "        vertical-align: middle;\n",
       "    }\n",
       "\n",
       "    .dataframe tbody tr th {\n",
       "        vertical-align: top;\n",
       "    }\n",
       "\n",
       "    .dataframe thead th {\n",
       "        text-align: right;\n",
       "    }\n",
       "</style>\n",
       "<table border=\"1\" class=\"dataframe\">\n",
       "  <thead>\n",
       "    <tr style=\"text-align: right;\">\n",
       "      <th></th>\n",
       "      <th>entity_group</th>\n",
       "      <th>score</th>\n",
       "      <th>word</th>\n",
       "      <th>start</th>\n",
       "      <th>end</th>\n",
       "    </tr>\n",
       "  </thead>\n",
       "  <tbody>\n",
       "    <tr>\n",
       "      <th>0</th>\n",
       "      <td>Detailed_description</td>\n",
       "      <td>0.542965</td>\n",
       "      <td>alice</td>\n",
       "      <td>1</td>\n",
       "      <td>6</td>\n",
       "    </tr>\n",
       "    <tr>\n",
       "      <th>1</th>\n",
       "      <td>Age</td>\n",
       "      <td>0.588998</td>\n",
       "      <td>13 y</td>\n",
       "      <td>12</td>\n",
       "      <td>16</td>\n",
       "    </tr>\n",
       "    <tr>\n",
       "      <th>2</th>\n",
       "      <td>Time</td>\n",
       "      <td>0.435087</td>\n",
       "      <td>. o</td>\n",
       "      <td>16</td>\n",
       "      <td>18</td>\n",
       "    </tr>\n",
       "    <tr>\n",
       "      <th>3</th>\n",
       "      <td>Personal_background</td>\n",
       "      <td>0.128038</td>\n",
       "      <td>.</td>\n",
       "      <td>18</td>\n",
       "      <td>19</td>\n",
       "    </tr>\n",
       "    <tr>\n",
       "      <th>4</th>\n",
       "      <td>Sex</td>\n",
       "      <td>0.995265</td>\n",
       "      <td>male</td>\n",
       "      <td>20</td>\n",
       "      <td>24</td>\n",
       "    </tr>\n",
       "    <tr>\n",
       "      <th>5</th>\n",
       "      <td>Clinical_event</td>\n",
       "      <td>0.997468</td>\n",
       "      <td>seen</td>\n",
       "      <td>31</td>\n",
       "      <td>35</td>\n",
       "    </tr>\n",
       "    <tr>\n",
       "      <th>6</th>\n",
       "      <td>Disease_disorder</td>\n",
       "      <td>0.998036</td>\n",
       "      <td>pah deficiency</td>\n",
       "      <td>54</td>\n",
       "      <td>68</td>\n",
       "    </tr>\n",
       "    <tr>\n",
       "      <th>7</th>\n",
       "      <td>Diagnostic_procedure</td>\n",
       "      <td>0.800990</td>\n",
       "      <td>vitamin d</td>\n",
       "      <td>81</td>\n",
       "      <td>90</td>\n",
       "    </tr>\n",
       "    <tr>\n",
       "      <th>8</th>\n",
       "      <td>Sign_symptom</td>\n",
       "      <td>0.967166</td>\n",
       "      <td>deficency</td>\n",
       "      <td>91</td>\n",
       "      <td>100</td>\n",
       "    </tr>\n",
       "    <tr>\n",
       "      <th>9</th>\n",
       "      <td>Sign_symptom</td>\n",
       "      <td>0.999920</td>\n",
       "      <td>an</td>\n",
       "      <td>105</td>\n",
       "      <td>107</td>\n",
       "    </tr>\n",
       "    <tr>\n",
       "      <th>10</th>\n",
       "      <td>Sign_symptom</td>\n",
       "      <td>0.998417</td>\n",
       "      <td>##emia</td>\n",
       "      <td>107</td>\n",
       "      <td>111</td>\n",
       "    </tr>\n",
       "    <tr>\n",
       "      <th>11</th>\n",
       "      <td>Medication</td>\n",
       "      <td>0.998949</td>\n",
       "      <td>via</td>\n",
       "      <td>126</td>\n",
       "      <td>129</td>\n",
       "    </tr>\n",
       "    <tr>\n",
       "      <th>12</th>\n",
       "      <td>Medication</td>\n",
       "      <td>0.989088</td>\n",
       "      <td>##tmin</td>\n",
       "      <td>129</td>\n",
       "      <td>133</td>\n",
       "    </tr>\n",
       "    <tr>\n",
       "      <th>13</th>\n",
       "      <td>Medication</td>\n",
       "      <td>0.975582</td>\n",
       "      <td>b2</td>\n",
       "      <td>138</td>\n",
       "      <td>140</td>\n",
       "    </tr>\n",
       "    <tr>\n",
       "      <th>14</th>\n",
       "      <td>Medication</td>\n",
       "      <td>0.919747</td>\n",
       "      <td>iron tablets</td>\n",
       "      <td>145</td>\n",
       "      <td>157</td>\n",
       "    </tr>\n",
       "  </tbody>\n",
       "</table>\n",
       "</div>"
      ],
      "text/plain": [
       "            entity_group     score            word  start  end\n",
       "0   Detailed_description  0.542965           alice      1    6\n",
       "1                    Age  0.588998            13 y     12   16\n",
       "2                   Time  0.435087             . o     16   18\n",
       "3    Personal_background  0.128038               .     18   19\n",
       "4                    Sex  0.995265            male     20   24\n",
       "5         Clinical_event  0.997468            seen     31   35\n",
       "6       Disease_disorder  0.998036  pah deficiency     54   68\n",
       "7   Diagnostic_procedure  0.800990       vitamin d     81   90\n",
       "8           Sign_symptom  0.967166       deficency     91  100\n",
       "9           Sign_symptom  0.999920              an    105  107\n",
       "10          Sign_symptom  0.998417          ##emia    107  111\n",
       "11            Medication  0.998949             via    126  129\n",
       "12            Medication  0.989088          ##tmin    129  133\n",
       "13            Medication  0.975582              b2    138  140\n",
       "14            Medication  0.919747    iron tablets    145  157"
      ]
     },
     "execution_count": 6,
     "metadata": {},
     "output_type": "execute_result"
    }
   ],
   "source": [
    "tokenizer = AutoTokenizer.from_pretrained(\"d4data/biomedical-ner-all\")\n",
    "model    = AutoModelForTokenClassification.from_pretrained(\"d4data/biomedical-ner-all\")\n",
    "pipe       = pipeline(\"ner\", model=model, tokenizer=tokenizer, aggregation_strategy=\"simple\") # pass device=0 if using gpu\n",
    "result_1   = pipe(text)\n",
    "result1_df = pd.DataFrame(result_1)\n",
    "result1_df"
   ]
  }
 ],
 "metadata": {
  "kernelspec": {
   "display_name": "Python 3 (ipykernel)",
   "language": "python",
   "name": "python3"
  },
  "language_info": {
   "codemirror_mode": {
    "name": "ipython",
    "version": 3
   },
   "file_extension": ".py",
   "mimetype": "text/x-python",
   "name": "python",
   "nbconvert_exporter": "python",
   "pygments_lexer": "ipython3",
   "version": "3.11.7"
  }
 },
 "nbformat": 4,
 "nbformat_minor": 5
}
