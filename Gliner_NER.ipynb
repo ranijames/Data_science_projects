{
 "cells": [
  {
   "cell_type": "code",
   "execution_count": 38,
   "id": "e724a69a-b46c-4d0b-8945-319488dfc4a3",
   "metadata": {
    "editable": true,
    "slideshow": {
     "slide_type": ""
    },
    "tags": []
   },
   "outputs": [],
   "source": [
    "from gliner import GLiNER\n",
    "model = GLiNER.from_pretrained(\"urchade/gliner_base\")\n",
    "from gliner_spacy.pipeline import GlinerSpacy\n",
    "import spacy\n",
    "from spacy import displacy\n",
    "from spacy.matcher import PhraseMatcher"
   ]
  },
  {
   "cell_type": "code",
   "execution_count": null,
   "id": "1b83f826-12a4-4110-bed6-5b8c37c38ab4",
   "metadata": {
    "editable": true,
    "slideshow": {
     "slide_type": ""
    },
    "tags": []
   },
   "outputs": [],
   "source": [
    "## Step 1: GLiNER"
   ]
  },
  {
   "cell_type": "code",
   "execution_count": 41,
   "id": "53ffd2b7-8d0d-4249-93c9-cf8b3e9711f9",
   "metadata": {
    "editable": true,
    "slideshow": {
     "slide_type": ""
    },
    "tags": []
   },
   "outputs": [
    {
     "name": "stdout",
     "output_type": "stream",
     "text": [
      "water => breast milk\n",
      "calorie drinks => formula\n",
      "vitamin D => supplementation\n",
      "formula => formula\n",
      "tyrosine supplementation => supplementation\n"
     ]
    }
   ],
   "source": [
    "text = \"\"\"\n",
    "Nutrition labs at the next visit\n",
    "Follow nutrition recommendations.\n",
    "Encouraged intake of 3 meals per day of low protein foods.\n",
    "Encouraged intake of water instead of calorie drinks.\n",
    "Aim for <15gm per day of protein from diet\n",
    "Discussed importance of daily diet log to aid with protein counting and weight loss\n",
    "Begin vitamin D supplementation, 1000 IUs per day \n",
    "We will contact the PCPs office and request assistance in placing referral to a local therapist/psychologist\n",
    "We will continue to work on obtaining insurance coverage for her formula. \n",
    "If this continues to be deferred, we will consider starting tyrosine supplementation in the interim.\n",
    "Followup in the metabolic clinic in 1 months  \n",
    "It was a pleasure to see Renato Shin. \n",
    "\"\"\"\n",
    "\n",
    "labels= ['breast milk','protein', 'supplementation'\n",
    "    'liquid predominant diet',\n",
    "    'formula', \n",
    "    'supplementation',\n",
    "    'meals',\n",
    "    'water']\n",
    "\n",
    "entities = model.predict_entities(text, labels, threshold=0.5)\n",
    "\n",
    "for entity in entities:\n",
    "    print(entity[\"text\"], \"=>\", entity[\"label\"])"
   ]
  },
  {
   "cell_type": "markdown",
   "id": "04e07039-d19e-4665-8f1b-253044a0cd08",
   "metadata": {
    "editable": true,
    "slideshow": {
     "slide_type": ""
    },
    "tags": []
   },
   "source": [
    "## Step 2: Example with spacy"
   ]
  },
  {
   "cell_type": "code",
   "execution_count": 56,
   "id": "d016c072-5496-47b3-8d61-c0eed02449af",
   "metadata": {
    "editable": true,
    "slideshow": {
     "slide_type": ""
    },
    "tags": []
   },
   "outputs": [
    {
     "name": "stdout",
     "output_type": "stream",
     "text": [
      "DIET => meals\n",
      "DIET => protein\n",
      "DIET => water\n",
      "DIET => protein\n",
      "DIET => protein\n",
      "DIET => supplementation\n",
      "DIET => formula\n",
      "DIET => supplementation\n"
     ]
    }
   ],
   "source": [
    "nlp = spacy.load(\"en_core_web_sm\")\n",
    "phrase_matcher = PhraseMatcher(nlp.vocab)\n",
    "food_list = [nlp.make_doc(text) for text in [\n",
    "  'breast milk','protein', 'supplementation',\n",
    "    'liquid predominant diet',\n",
    "    'formula', \n",
    "    'supplementation',\n",
    "    'meals',\n",
    "    'water']]\n",
    "phrase_matcher.add(\"DIET\",None, *food_list)\n",
    "doc1    = nlp(text)\n",
    "matches = phrase_matcher(doc1)\n",
    "# Assign labels and update Doc object with entities\n",
    "for match_id, start, end in matches:\n",
    "    rule_id = nlp.vocab.strings[match_id]  # get the label\n",
    "    span = doc1[start : end]  # get the matched slice of the doc\n",
    "    print(rule_id,\"=>\", span.text)\n",
    " "
   ]
  },
  {
   "cell_type": "code",
   "execution_count": 54,
   "id": "d3eaf17c-0744-4f58-b4fe-501fec78072f",
   "metadata": {
    "editable": true,
    "slideshow": {
     "slide_type": ""
    },
    "tags": []
   },
   "outputs": [
    {
     "name": "stdout",
     "output_type": "stream",
     "text": [
      "Apple 0 5 ORG\n",
      "U.K. 27 31 GPE\n",
      "$1 billion 44 54 MONEY\n"
     ]
    }
   ],
   "source": [
    "nlp = spacy.load(\"en_core_web_sm\")\n",
    "doc = nlp(\"Apple is looking at buying U.K. startup for $1 billion\")\n",
    "\n",
    "for ent in doc.ents:\n",
    "    print(ent.text, ent.start_char, ent.end_char, ent.label_)"
   ]
  }
 ],
 "metadata": {
  "kernelspec": {
   "display_name": "Python 3 (ipykernel)",
   "language": "python",
   "name": "python3"
  },
  "language_info": {
   "codemirror_mode": {
    "name": "ipython",
    "version": 3
   },
   "file_extension": ".py",
   "mimetype": "text/x-python",
   "name": "python",
   "nbconvert_exporter": "python",
   "pygments_lexer": "ipython3",
   "version": "3.9.2"
  }
 },
 "nbformat": 4,
 "nbformat_minor": 5
}
